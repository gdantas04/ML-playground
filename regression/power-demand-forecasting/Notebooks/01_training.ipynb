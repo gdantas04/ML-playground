{
 "cells": [
  {
   "cell_type": "markdown",
   "id": "f4e96305",
   "metadata": {},
   "source": [
    "### Importação de bibliotecas\n",
    "Carrega os pacotes necessários para regressão, avaliação de modelos e tuning de hiperparâmetros com Optuna."
   ]
  },
  {
   "cell_type": "code",
   "execution_count": 2,
   "id": "cda72cb8",
   "metadata": {},
   "outputs": [],
   "source": [
    "import pandas as pd\n",
    "import numpy as np\n",
    "from sklearn.ensemble import RandomForestRegressor\n",
    "from sklearn.model_selection import train_test_split\n",
    "from sklearn.metrics import mean_squared_error, mean_absolute_percentage_error, r2_score, mean_absolute_error\n",
    "from sklearn.model_selection import cross_val_score\n",
    "import optuna"
   ]
  },
  {
   "cell_type": "markdown",
   "id": "d37e06d9",
   "metadata": {},
   "source": [
    "### Leitura dos dados tratados\n",
    "Importa o dataset previamente limpo e transformado durante a etapa de EDA, permitindo prosseguir diretamente com a construção do modelo."
   ]
  },
  {
   "cell_type": "code",
   "execution_count": 3,
   "id": "6249bef4",
   "metadata": {},
   "outputs": [
    {
     "data": {
      "text/html": [
       "<div>\n",
       "<style scoped>\n",
       "    .dataframe tbody tr th:only-of-type {\n",
       "        vertical-align: middle;\n",
       "    }\n",
       "\n",
       "    .dataframe tbody tr th {\n",
       "        vertical-align: top;\n",
       "    }\n",
       "\n",
       "    .dataframe thead th {\n",
       "        text-align: right;\n",
       "    }\n",
       "</style>\n",
       "<table border=\"1\" class=\"dataframe\">\n",
       "  <thead>\n",
       "    <tr style=\"text-align: right;\">\n",
       "      <th></th>\n",
       "      <th>Hour</th>\n",
       "      <th>Temperature</th>\n",
       "      <th>Humidity</th>\n",
       "      <th>WindSpeed</th>\n",
       "      <th>GeneralDiffuseFlows</th>\n",
       "      <th>DiffuseFlows</th>\n",
       "      <th>PowerConsumption_Zone1</th>\n",
       "      <th>PowerConsumption_Zone2</th>\n",
       "      <th>PowerConsumption_Zone3</th>\n",
       "      <th>TotalConsumption</th>\n",
       "    </tr>\n",
       "  </thead>\n",
       "  <tbody>\n",
       "    <tr>\n",
       "      <th>0</th>\n",
       "      <td>0</td>\n",
       "      <td>6.559</td>\n",
       "      <td>73.8</td>\n",
       "      <td>0.083</td>\n",
       "      <td>0.051</td>\n",
       "      <td>0.119</td>\n",
       "      <td>34055.69620</td>\n",
       "      <td>16128.87538</td>\n",
       "      <td>20240.96386</td>\n",
       "      <td>70425.53544</td>\n",
       "    </tr>\n",
       "    <tr>\n",
       "      <th>1</th>\n",
       "      <td>0</td>\n",
       "      <td>6.414</td>\n",
       "      <td>74.5</td>\n",
       "      <td>0.083</td>\n",
       "      <td>0.070</td>\n",
       "      <td>0.085</td>\n",
       "      <td>29814.68354</td>\n",
       "      <td>19375.07599</td>\n",
       "      <td>20131.08434</td>\n",
       "      <td>69320.84387</td>\n",
       "    </tr>\n",
       "    <tr>\n",
       "      <th>2</th>\n",
       "      <td>0</td>\n",
       "      <td>6.313</td>\n",
       "      <td>74.5</td>\n",
       "      <td>0.080</td>\n",
       "      <td>0.062</td>\n",
       "      <td>0.100</td>\n",
       "      <td>29128.10127</td>\n",
       "      <td>19006.68693</td>\n",
       "      <td>19668.43373</td>\n",
       "      <td>67803.22193</td>\n",
       "    </tr>\n",
       "    <tr>\n",
       "      <th>3</th>\n",
       "      <td>0</td>\n",
       "      <td>6.121</td>\n",
       "      <td>75.0</td>\n",
       "      <td>0.083</td>\n",
       "      <td>0.091</td>\n",
       "      <td>0.096</td>\n",
       "      <td>28228.86076</td>\n",
       "      <td>18361.09422</td>\n",
       "      <td>18899.27711</td>\n",
       "      <td>65489.23209</td>\n",
       "    </tr>\n",
       "    <tr>\n",
       "      <th>4</th>\n",
       "      <td>0</td>\n",
       "      <td>5.921</td>\n",
       "      <td>75.7</td>\n",
       "      <td>0.081</td>\n",
       "      <td>0.048</td>\n",
       "      <td>0.085</td>\n",
       "      <td>27335.69620</td>\n",
       "      <td>17872.34043</td>\n",
       "      <td>18442.40964</td>\n",
       "      <td>63650.44627</td>\n",
       "    </tr>\n",
       "  </tbody>\n",
       "</table>\n",
       "</div>"
      ],
      "text/plain": [
       "   Hour  Temperature  Humidity  WindSpeed  GeneralDiffuseFlows  DiffuseFlows  \\\n",
       "0     0        6.559      73.8      0.083                0.051         0.119   \n",
       "1     0        6.414      74.5      0.083                0.070         0.085   \n",
       "2     0        6.313      74.5      0.080                0.062         0.100   \n",
       "3     0        6.121      75.0      0.083                0.091         0.096   \n",
       "4     0        5.921      75.7      0.081                0.048         0.085   \n",
       "\n",
       "   PowerConsumption_Zone1  PowerConsumption_Zone2  PowerConsumption_Zone3  \\\n",
       "0             34055.69620             16128.87538             20240.96386   \n",
       "1             29814.68354             19375.07599             20131.08434   \n",
       "2             29128.10127             19006.68693             19668.43373   \n",
       "3             28228.86076             18361.09422             18899.27711   \n",
       "4             27335.69620             17872.34043             18442.40964   \n",
       "\n",
       "   TotalConsumption  \n",
       "0       70425.53544  \n",
       "1       69320.84387  \n",
       "2       67803.22193  \n",
       "3       65489.23209  \n",
       "4       63650.44627  "
      ]
     },
     "execution_count": 3,
     "metadata": {},
     "output_type": "execute_result"
    }
   ],
   "source": [
    "df = pd.read_csv('../Data/powerconsumption_after_EDA.csv')\n",
    "df.head()"
   ]
  },
  {
   "cell_type": "markdown",
   "id": "853e8da6",
   "metadata": {},
   "source": [
    "### Preparação do conjunto de treino e teste\n",
    "Separa o target (`TotalConsumption`) das variáveis preditoras e realiza a divisão dos dados em treino e teste para validação independente do modelo."
   ]
  },
  {
   "cell_type": "code",
   "execution_count": 4,
   "id": "84a097a5",
   "metadata": {},
   "outputs": [],
   "source": [
    "X = df.drop(['PowerConsumption_Zone1',\n",
    "             'PowerConsumption_Zone2',\n",
    "             'PowerConsumption_Zone3',\n",
    "             'TotalConsumption'], axis=1)\n",
    "\n",
    "y = df['TotalConsumption']\n",
    "\n",
    "X_train, X_test, y_train, y_test = train_test_split(X, y, test_size=0.2, random_state=42)"
   ]
  },
  {
   "cell_type": "markdown",
   "id": "3fd93d93",
   "metadata": {},
   "source": [
    "### Função objetivo para otimização com Optuna\n",
    "\n",
    "Define a função de avaliação a ser maximizada durante a busca bayesiana de hiperparâmetros com Optuna. O espaço de busca inclui parâmetros-chave do Random Forest, como profundidade da árvore, número de estimadores e critérios de divisão.\n",
    "\n",
    "A métrica utilizada é o coeficiente R², avaliado por validação cruzada com 5 folds.\n"
   ]
  },
  {
   "cell_type": "code",
   "execution_count": 5,
   "id": "9c53f6af",
   "metadata": {},
   "outputs": [],
   "source": [
    "def objective(trial):\n",
    "    params = {\n",
    "        'n_estimators': trial.suggest_int('n_estimators', 50, 300),\n",
    "        'max_depth': trial.suggest_int('max_depth', 5, 30),\n",
    "        'min_samples_split': trial.suggest_int('min_samples_split', 2, 20),\n",
    "        'min_samples_leaf': trial.suggest_int('min_samples_leaf', 1, 20),\n",
    "        'max_features': trial.suggest_categorical('max_features', [None, 'sqrt', 'log2']),\n",
    "    }\n",
    "\n",
    "    model = RandomForestRegressor(**params, random_state=42)\n",
    "    \n",
    "    score = cross_val_score(model, X_train, y_train, scoring='r2', cv=5, n_jobs=-1).mean()\n",
    "    return score"
   ]
  },
  {
   "cell_type": "markdown",
   "id": "16aefc0c",
   "metadata": {},
   "source": [
    "### Otimização de hiperparâmetros\n",
    "Inicia o processo de tuning com Optuna, utilizando uma função objetivo para encontrar a melhor combinação de hiperparâmetros."
   ]
  },
  {
   "cell_type": "code",
   "execution_count": 6,
   "id": "0e822686",
   "metadata": {},
   "outputs": [],
   "source": [
    "optuna.logging.set_verbosity(optuna.logging.WARNING)\n",
    "study = optuna.create_study(direction='maximize')\n",
    "study.optimize(objective, timeout = 3600)"
   ]
  },
  {
   "cell_type": "markdown",
   "id": "54c0629b",
   "metadata": {},
   "source": [
    "### Extração dos melhores hiperparâmetros\n",
    "Recupera os parâmetros ideais definidos pelo processo de otimização, que serão usados para refinar o modelo final."
   ]
  },
  {
   "cell_type": "code",
   "execution_count": 7,
   "id": "6eb82501",
   "metadata": {},
   "outputs": [
    {
     "name": "stdout",
     "output_type": "stream",
     "text": [
      "Best hyperparameters found:\n",
      "{'n_estimators': 181, 'max_depth': 23, 'min_samples_split': 2, 'min_samples_leaf': 1, 'max_features': None}\n",
      "Best mean R2: 0.9346719836151536\n"
     ]
    }
   ],
   "source": [
    "print(\"Best hyperparameters found:\")\n",
    "print(study.best_params)\n",
    "print(\"Best mean R2:\", study.best_value)"
   ]
  },
  {
   "cell_type": "markdown",
   "id": "3ddbb4a9",
   "metadata": {},
   "source": [
    "### Treinamento do modelo\n",
    "Treina um modelo de regressão baseado em Random Forest. Essa técnica é adequada para capturar relações não lineares e reduzir risco de overfitting."
   ]
  },
  {
   "cell_type": "code",
   "execution_count": 8,
   "id": "27662ab8",
   "metadata": {},
   "outputs": [],
   "source": [
    "best_model = RandomForestRegressor(**study.best_params, random_state=42)\n",
    "best_model.fit(X_train, y_train)\n",
    "y_pred = best_model.predict(X_test)"
   ]
  },
  {
   "cell_type": "markdown",
   "id": "0fb67bff",
   "metadata": {},
   "source": [
    "### Avaliação do desempenho do modelo\n",
    "\n",
    "Calcula-se um conjunto abrangente de métricas de regressão para quantificar a performance do modelo sobre o conjunto de teste:\n",
    "\n",
    "- **MSE (Erro Quadrático Médio)**: penaliza mais fortemente grandes erros.\n",
    "- **MAE (Erro Absoluto Médio)**: métrica robusta a outliers.\n",
    "- **R² (Coeficiente de Determinação)**: representa a proporção da variância explicada.\n",
    "- **MAPE**: erro percentual médio, útil para interpretação em escala relativa.\n",
    "- **nMSE (MSE normalizado)**: mede o erro em relação à média ao quadrado da variável dependente, facilitando comparação entre modelos.\n",
    "\n",
    "A apresentação dos resultados em valores absolutos e percentuais fornece uma análise mais intuitiva e comparável da qualidade preditiva do modelo.\n"
   ]
  },
  {
   "cell_type": "code",
   "execution_count": 9,
   "id": "525e45d4",
   "metadata": {},
   "outputs": [
    {
     "name": "stdout",
     "output_type": "stream",
     "text": [
      "MSE: 14769335.3208\n",
      "MAE: 2596.9510\n",
      "R2: 0.9405\n",
      "----------\n",
      "MSE in percentage: 0.30%\n",
      "MAE in percentage: 3.81%\n",
      "R2 in percentage: 94.05%\n"
     ]
    }
   ],
   "source": [
    "mse = mean_squared_error(y_test, y_pred)\n",
    "mae = mean_absolute_error(y_test, y_pred)\n",
    "r2 = r2_score(y_test, y_pred)\n",
    "\n",
    "nMSE_percent = (mse / np.mean(y_test)**2)\n",
    "mape = mean_absolute_percentage_error(y_test, y_pred)\n",
    "\n",
    "print(f\"MSE: {mse:.4f}\")\n",
    "print(f\"MAE: {mae:.4f}\")\n",
    "print(f\"R2: {r2:.4f}\")\n",
    "print('-'*10)\n",
    "print(f\"MSE in percentage: {nMSE_percent*100:.2f}%\")\n",
    "print(f\"MAE in percentage: {mape*100:.2f}%\")\n",
    "print(f\"R2 in percentage: {r2*100:.2f}%\")"
   ]
  }
 ],
 "metadata": {
  "kernelspec": {
   "display_name": ".venv",
   "language": "python",
   "name": "python3"
  },
  "language_info": {
   "codemirror_mode": {
    "name": "ipython",
    "version": 3
   },
   "file_extension": ".py",
   "mimetype": "text/x-python",
   "name": "python",
   "nbconvert_exporter": "python",
   "pygments_lexer": "ipython3",
   "version": "3.10.18"
  }
 },
 "nbformat": 4,
 "nbformat_minor": 5
}
